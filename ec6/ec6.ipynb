{
 "cells": [
  {
   "cell_type": "markdown",
   "metadata": {},
   "source": [
    "# EC Notebook for Lecture 6: Working with `len()`\n",
    "\n",
    "This extra credit Python notebook will let you practice the material you saw in lecture.  Completing all parts of this notebook will earn +1 extra credit point to your grade in STAT 107! :)\n",
    "\n",
    "This notebook is worth +1 if turned in before 11:30am on **Wednesday, Sept. 11** *(30 minutes before the next STAT 107 lecture)*.  You can feel free to complete it anytime for extra practice."
   ]
  },
  {
   "cell_type": "markdown",
   "metadata": {},
   "source": [
    "## 1. Loading pandas and importing data\n",
    "\n",
    "For this notebook, we will use the \"Course Catalog\" dataset that is our dataset of the week.\n",
    "\n",
    "Here's the link: https://docs.google.com/spreadsheets/d/1ZnpZpipyui_zIIBblmalRYiyEG1glUKinqJtQxVL04o/edit#gid=0\n",
    "\n",
    "Use the following cell to load the pandas library and read the DataSet as a DataFrame:"
   ]
  },
  {
   "cell_type": "code",
   "execution_count": null,
   "metadata": {
    "deletable": false,
    "nbgrader": {
     "cell_type": "code",
     "checksum": "62e263ada90968c37ee9eb4e09febab3",
     "grade": false,
     "grade_id": "cell-0c0abea61271817c",
     "locked": false,
     "schema_version": 3,
     "solution": true,
     "task": false
    }
   },
   "outputs": [],
   "source": []
  },
  {
   "cell_type": "markdown",
   "metadata": {},
   "source": [
    "## 2. Courses in STAT, CS, and IS\n",
    "\n",
    "This course, Data Science Discovery, is cross-listed as **STAT 107**, **CS 107**, and **IS 107** as this is a truly cross-disciplinary course.\n",
    "\n",
    "Using the \"Course Catalog\" dataset, find the number of courses is the subjects **STAT**, **CS**, and **IS** and store the value in the cells `STAT_courses_ct`, `CS_courses_ct`, and `IS_courses_ct`,\n",
    "\n",
    "- *Make sure that these values are **numbers**, not DataFrames!*"
   ]
  },
  {
   "cell_type": "code",
   "execution_count": null,
   "metadata": {
    "deletable": false,
    "nbgrader": {
     "cell_type": "code",
     "checksum": "444f8cf7f650afa5b0af2c52668e1be6",
     "grade": false,
     "grade_id": "cell-18acb525a86ffa3e",
     "locked": false,
     "schema_version": 3,
     "solution": true,
     "task": false
    }
   },
   "outputs": [],
   "source": [
    "\n",
    "\n",
    "STAT_courses_ct = ...\n",
    "print(f\"There are a total of {STAT_courses_ct} unique STAT courses in the course catalog.\")\n",
    "\n"
   ]
  },
  {
   "cell_type": "code",
   "execution_count": null,
   "metadata": {
    "deletable": false,
    "nbgrader": {
     "cell_type": "code",
     "checksum": "45e52d42d216d7305463d04de28104c4",
     "grade": false,
     "grade_id": "cell-304c0e604514f773",
     "locked": false,
     "schema_version": 3,
     "solution": true,
     "task": false
    }
   },
   "outputs": [],
   "source": [
    "\n",
    "\n",
    "CS_courses_ct = ...\n",
    "print(f\"There are a total of {CS_courses_ct} unique CS courses in the course catalog.\")\n",
    "\n"
   ]
  },
  {
   "cell_type": "code",
   "execution_count": null,
   "metadata": {
    "deletable": false,
    "nbgrader": {
     "cell_type": "code",
     "checksum": "7ad05680d0f5704509b8215e3e08c22a",
     "grade": false,
     "grade_id": "cell-80924a83e9d8942e",
     "locked": false,
     "schema_version": 3,
     "solution": true,
     "task": false
    }
   },
   "outputs": [],
   "source": [
    "\n",
    "\n",
    "IS_courses_ct = ...\n",
    "print(f\"There are a total of {IS_courses_ct} unique IS courses in the course catalog.\")\n",
    "\n"
   ]
  },
  {
   "cell_type": "code",
   "execution_count": null,
   "metadata": {
    "deletable": false,
    "editable": false,
    "nbgrader": {
     "cell_type": "code",
     "checksum": "72f7dabdff0a72c2351c94a9defb4570",
     "grade": true,
     "grade_id": "cell-8f911f7a0d33fd01",
     "locked": true,
     "points": 0,
     "schema_version": 3,
     "solution": false,
     "task": false
    }
   },
   "outputs": [],
   "source": [
    "## == TEST CASES for Puzzle 2 ==\n",
    "# - This read-only cell contains test cases for your previous cell.\n",
    "# - If this cell runs without any error our output, you PASSED all test cases!\n",
    "# - If this cell results in any errors, check you previous cell, make changes, and RE-RUN your code and then this cell.\n",
    "\n",
    "assert( STAT_courses_ct == 57 ), \"The number of STAT courses appears to be incorrect.\"\n",
    "assert( CS_courses_ct == 118 ), \"The number of STAT courses appears to be incorrect.\"\n",
    "assert( IS_courses_ct == 92 ), \"The number of STAT courses appears to be incorrect.\""
   ]
  },
  {
   "cell_type": "markdown",
   "metadata": {},
   "source": [
    "## Submit Your Work!\n",
    "\n",
    "Make sure to **Save and Checkpoint** your notebook, exit Jupyter, and submit your work! :)"
   ]
  }
 ],
 "metadata": {
  "kernelspec": {
   "display_name": "Python 3",
   "language": "python",
   "name": "python3"
  },
  "language_info": {
   "codemirror_mode": {
    "name": "ipython",
    "version": 3
   },
   "file_extension": ".py",
   "mimetype": "text/x-python",
   "name": "python",
   "nbconvert_exporter": "python",
   "pygments_lexer": "ipython3",
   "version": "3.6.4"
  }
 },
 "nbformat": 4,
 "nbformat_minor": 2
}
