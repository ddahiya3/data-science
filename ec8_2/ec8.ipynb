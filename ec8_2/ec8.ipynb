{
 "cells": [
  {
   "cell_type": "markdown",
   "metadata": {},
   "source": [
    "# EC Notebook for Lecture 7: Working with columns\n",
    "\n",
    "This extra credit Python notebook will let you practice the material you saw in lecture.  Completing all parts of this notebook will earn +1 extra credit point to your grade in STAT 107! :)\n",
    "\n",
    "This notebook is worth +1 if turned in before 11:30am on **Friday, Sept. 13** *(30 minutes before the next STAT 107 lecture)*.  You can feel free to complete it anytime for extra practice."
   ]
  },
  {
   "cell_type": "markdown",
   "metadata": {},
   "source": [
    "## 1. Loading pandas and importing data\n",
    "\n",
    "For this notebook, we will use the \"Hello\" dataset -- as we did in lecture -- to answer a few questions on working with columns.\n",
    "\n",
    "Using your @illinois.edu address, you can access the \"Hello\" dataset here: https://docs.google.com/spreadsheets/d/1LB4E89GoVi5yezEfHhopbI5BMxodSG7VvoznkaAkMAQ/edit#gid=0\n"
   ]
  },
  {
   "cell_type": "code",
   "execution_count": null,
   "metadata": {
    "deletable": false,
    "nbgrader": {
     "cell_type": "code",
     "checksum": "50ac458a51c596f562215f226979e40a",
     "grade": false,
     "grade_id": "cell-dd544cd44bfbea7f",
     "locked": false,
     "schema_version": 3,
     "solution": true,
     "task": false
    }
   },
   "outputs": [],
   "source": []
  },
  {
   "cell_type": "markdown",
   "metadata": {},
   "source": [
    "## 2. Spread of sleeping hours among Freshmen\n",
    "After coming to college, some people start burning the midnight oil from the very first day and hence sleep less. At the same time, there are few people who are still tired because of the celeberation they had after graduating from high school and hence sleep more. Let's find out what is the average and the spread of sleeping hours among freshmen in our class.\n",
    "\n",
    "### Question 1: \n",
    "Using the \"hello.csv\" dataset, calculate the mean and the standard deviation (std) in number of hours of sleep among freshmen. \n",
    "(Please note that \"std\" is a common abbreviation for standard deviation.)"
   ]
  },
  {
   "cell_type": "code",
   "execution_count": null,
   "metadata": {
    "deletable": false,
    "nbgrader": {
     "cell_type": "code",
     "checksum": "8992f651d3f776ed34a537cc0a830e33",
     "grade": false,
     "grade_id": "cell-c48d64c4f962fa20",
     "locked": false,
     "schema_version": 3,
     "solution": true,
     "task": false
    }
   },
   "outputs": [],
   "source": [
    "freshmen_sleep_mean = ...\n",
    "freshmen_sleep_std = ...\n",
    "print(freshmen_sleep_mean)\n",
    "print(freshmen_sleep_std)\n",
    "\n",
    "\n"
   ]
  },
  {
   "cell_type": "markdown",
   "metadata": {},
   "source": [
    "Now, we are three weeks into the FALL 2019. With all the assignments piling up, our Freshmen friends are having a hard time catching up. Let's reduce their number of hours of sleep (by just 1 hour :) ) so that they don't look tired in Lincoln Hall Theatre (otherwise Wade and Karle will be worried).\n",
    "\n",
    "### Question 2:\n",
    "Subtract 1 from \"Hours of Sleep\" for Freshmen and recalculate the new mean and new standard deviation (std). Notice which quantity changes and which does not on recalculation."
   ]
  },
  {
   "cell_type": "code",
   "execution_count": null,
   "metadata": {
    "deletable": false,
    "nbgrader": {
     "cell_type": "code",
     "checksum": "ef8019a420de1318d88f4d7cdebe1178",
     "grade": false,
     "grade_id": "cell-a26c7f01ce6154a9",
     "locked": false,
     "schema_version": 3,
     "solution": true,
     "task": false
    }
   },
   "outputs": [],
   "source": [
    "freshmen_sleep_new_mean = ...\n",
    "freshmen_sleep_new_std = ...\n",
    "print(freshmen_sleep_new_mean)\n",
    "print(freshmen_sleep_new_std)\n",
    "\n",
    "\n"
   ]
  },
  {
   "cell_type": "code",
   "execution_count": null,
   "metadata": {
    "deletable": false,
    "editable": false,
    "nbgrader": {
     "cell_type": "code",
     "checksum": "1226c90cd3bbe2e232442e65f9dbe575",
     "grade": true,
     "grade_id": "cell-8318e84b019d9c10",
     "locked": true,
     "points": 0,
     "schema_version": 3,
     "solution": false,
     "task": false
    }
   },
   "outputs": [],
   "source": [
    "## == TEST CASES for Puzzle 2 ==\n",
    "# - This read-only cell contains test cases for your previous cell.\n",
    "# - If this cell runs without any error our output, you PASSED all test cases!\n",
    "# - If this cell results in any errors, check you previous cell, make changes, and RE-RUN your code and then this cell.\n",
    "\n",
    "assert(freshmen_sleep_mean == 7.09), \"This does not appear correct.\"\n",
    "assert(round(freshmen_sleep_std,3) == 0.812), \"This does not appear correct .\"\n",
    "assert(freshmen_sleep_mean_new == 6.09), \"This does not appear correct.\"\n",
    "assert(round(freshmen_sleep_std_new,3) == 0.812),  \"This does not appear correct.\""
   ]
  },
  {
   "cell_type": "markdown",
   "metadata": {},
   "source": [
    "## Submit Your Work!\n",
    "\n",
    "Make sure to **Save and Checkpoint** your notebook, exit Jupyter, and submit your work! :)"
   ]
  }
 ],
 "metadata": {
  "kernelspec": {
   "display_name": "Python 3",
   "language": "python",
   "name": "python3"
  },
  "language_info": {
   "codemirror_mode": {
    "name": "ipython",
    "version": 3
   },
   "file_extension": ".py",
   "mimetype": "text/x-python",
   "name": "python",
   "nbconvert_exporter": "python",
   "pygments_lexer": "ipython3",
   "version": "3.7.3"
  }
 },
 "nbformat": 4,
 "nbformat_minor": 2
}
